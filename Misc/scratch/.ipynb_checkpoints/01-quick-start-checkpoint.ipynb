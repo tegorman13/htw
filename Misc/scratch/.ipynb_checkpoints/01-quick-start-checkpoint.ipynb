{
 "cells": [
  {
   "cell_type": "markdown",
   "id": "c1271f63-22c4-4151-83ae-0ea36be59c17",
   "metadata": {},
   "source": [
    "## The Magic Commands in `Chapyter`"
   ]
  },
  {
   "cell_type": "code",
   "execution_count": 1,
   "id": "305f5dfc-d2e5-44eb-b6b5-4850e86274f4",
   "metadata": {
    "slideshow": {
     "slide_type": ""
    },
    "tags": []
   },
   "outputs": [],
   "source": [
    "%load_ext chapyter\n",
    "# You might want to create an `.env` file in the current\n",
    "# directory that contains\n",
    "# OPENAI_API_KEY=sk-xxxx\n",
    "# OPENAI_ORGANIZATION=org-xxxx\n",
    "# For other ways for configurations, including how to use Azure OpenAI APIs, \n",
    "# you can check the 02-configure-chapyter.ipynb notebook for more details."
   ]
  },
  {
   "cell_type": "markdown",
   "id": "a4caec9f-71d7-4674-9e4c-29279981fed2",
   "metadata": {},
   "source": [
    "PS: You will see neat UIs if you download and execute the following cells one by one in jupyterlab. \n",
    "![chapyter-starter.png](https://www.szj.io/assets/files/data/chapyter-starter.png)"
   ]
  },
  {
   "cell_type": "markdown",
   "id": "bb8888ac-5bec-4c62-9de6-21d45ce89ff1",
   "metadata": {},
   "source": [
    "### `%%chat`: start coding in natural language"
   ]
  },
  {
   "cell_type": "code",
   "execution_count": 2,
   "id": "effc4a91-fc5e-42c9-b576-e0c37ecd4478",
   "metadata": {
    "ChapyterCell": {
     "cellType": "original",
     "linkedCellId": "93c33a3e-710a-4472-922c-1458d98c32d0"
    }
   },
   "outputs": [
    {
     "name": "stdout",
     "output_type": "stream",
     "text": [
      "Traceback (most recent call last):\n",
      "  File \"/Users/thomasgorman/miniconda3/lib/python3.10/site-packages/guidance/_program_executor.py\", line 109, in run\n",
      "    await self.visit(self.parse_tree, VariableStack([self.program._variables], self))\n",
      "  File \"/Users/thomasgorman/miniconda3/lib/python3.10/site-packages/guidance/_program_executor.py\", line 559, in visit\n",
      "    visited_children.append(await self.visit(child, variable_stack, inner_next_node, inner_next_next_node, inner_prev_node, node, parent_node))\n",
      "  File \"/Users/thomasgorman/miniconda3/lib/python3.10/site-packages/guidance/_program_executor.py\", line 524, in visit\n",
      "    command_output = await command_function(*positional_args, **named_args)\n",
      "  File \"/Users/thomasgorman/miniconda3/lib/python3.10/site-packages/guidance/library/_assistant.py\", line 13, in assistant\n",
      "    return await role(role_name=\"assistant\", hidden=hidden, _parser_context=_parser_context, **kwargs)\n",
      "  File \"/Users/thomasgorman/miniconda3/lib/python3.10/site-packages/guidance/library/_role.py\", line 17, in role\n",
      "    new_content += await parser.visit(\n",
      "  File \"/Users/thomasgorman/miniconda3/lib/python3.10/site-packages/guidance/_program_executor.py\", line 559, in visit\n",
      "    visited_children.append(await self.visit(child, variable_stack, inner_next_node, inner_next_next_node, inner_prev_node, node, parent_node))\n",
      "  File \"/Users/thomasgorman/miniconda3/lib/python3.10/site-packages/guidance/_program_executor.py\", line 559, in visit\n",
      "    visited_children.append(await self.visit(child, variable_stack, inner_next_node, inner_next_next_node, inner_prev_node, node, parent_node))\n",
      "  File \"/Users/thomasgorman/miniconda3/lib/python3.10/site-packages/guidance/_program_executor.py\", line 266, in visit\n",
      "    visited_children = [await self.visit(child, variable_stack, next_node, next_next_node, prev_node, node, parent_node) for child in node]\n",
      "  File \"/Users/thomasgorman/miniconda3/lib/python3.10/site-packages/guidance/_program_executor.py\", line 266, in <listcomp>\n",
      "    visited_children = [await self.visit(child, variable_stack, next_node, next_next_node, prev_node, node, parent_node) for child in node]\n",
      "  File \"/Users/thomasgorman/miniconda3/lib/python3.10/site-packages/guidance/_program_executor.py\", line 379, in visit\n",
      "    command_output = await command_function(*positional_args, **named_args)\n",
      "  File \"/Users/thomasgorman/miniconda3/lib/python3.10/site-packages/guidance/library/_gen.py\", line 140, in gen\n",
      "    gen_obj = await parser.llm_session(\n",
      "  File \"/Users/thomasgorman/miniconda3/lib/python3.10/site-packages/guidance/llms/_openai.py\", line 665, in __call__\n",
      "    out = await self.llm.caller(**call_args)\n",
      "  File \"/Users/thomasgorman/miniconda3/lib/python3.10/site-packages/guidance/llms/_openai.py\", line 362, in _library_call\n",
      "    assert openai.api_key is not None, \"You must provide an OpenAI API key to use the OpenAI LLM. Either pass it in the constructor, set the OPENAI_API_KEY environment variable, or create the file ~/.openai_api_key with your key in it.\"\n",
      "AssertionError: You must provide an OpenAI API key to use the OpenAI LLM. Either pass it in the constructor, set the OPENAI_API_KEY environment variable, or create the file ~/.openai_api_key with your key in it.\n",
      "\n",
      "Error in program:  You must provide an OpenAI API key to use the OpenAI LLM. Either pass it in the constructor, set the OPENAI_API_KEY environment variable, or create the file ~/.openai_api_key with your key in it.\n"
     ]
    },
    {
     "ename": "KeyError",
     "evalue": "'code'",
     "output_type": "error",
     "traceback": [
      "\u001b[0;31m---------------------------------------------------------------------------\u001b[0m",
      "\u001b[0;31mKeyError\u001b[0m                                  Traceback (most recent call last)",
      "Cell \u001b[0;32mIn[2], line 1\u001b[0m\n\u001b[0;32m----> 1\u001b[0m \u001b[43mget_ipython\u001b[49m\u001b[43m(\u001b[49m\u001b[43m)\u001b[49m\u001b[38;5;241;43m.\u001b[39;49m\u001b[43mrun_cell_magic\u001b[49m\u001b[43m(\u001b[49m\u001b[38;5;124;43m'\u001b[39;49m\u001b[38;5;124;43mchat\u001b[39;49m\u001b[38;5;124;43m'\u001b[39;49m\u001b[43m,\u001b[49m\u001b[43m \u001b[49m\u001b[38;5;124;43m'\u001b[39;49m\u001b[38;5;124;43m'\u001b[39;49m\u001b[43m,\u001b[49m\u001b[43m \u001b[49m\u001b[38;5;124;43m'\u001b[39;49m\u001b[38;5;124;43mlist all the files in the current directory\u001b[39;49m\u001b[38;5;130;43;01m\\n\u001b[39;49;00m\u001b[38;5;124;43m'\u001b[39;49m\u001b[43m)\u001b[49m\n",
      "File \u001b[0;32m~/miniconda3/lib/python3.10/site-packages/IPython/core/interactiveshell.py:2478\u001b[0m, in \u001b[0;36mInteractiveShell.run_cell_magic\u001b[0;34m(self, magic_name, line, cell)\u001b[0m\n\u001b[1;32m   2476\u001b[0m \u001b[38;5;28;01mwith\u001b[39;00m \u001b[38;5;28mself\u001b[39m\u001b[38;5;241m.\u001b[39mbuiltin_trap:\n\u001b[1;32m   2477\u001b[0m     args \u001b[38;5;241m=\u001b[39m (magic_arg_s, cell)\n\u001b[0;32m-> 2478\u001b[0m     result \u001b[38;5;241m=\u001b[39m \u001b[43mfn\u001b[49m\u001b[43m(\u001b[49m\u001b[38;5;241;43m*\u001b[39;49m\u001b[43margs\u001b[49m\u001b[43m,\u001b[49m\u001b[43m \u001b[49m\u001b[38;5;241;43m*\u001b[39;49m\u001b[38;5;241;43m*\u001b[39;49m\u001b[43mkwargs\u001b[49m\u001b[43m)\u001b[49m\n\u001b[1;32m   2480\u001b[0m \u001b[38;5;66;03m# The code below prevents the output from being displayed\u001b[39;00m\n\u001b[1;32m   2481\u001b[0m \u001b[38;5;66;03m# when using magics with decodator @output_can_be_silenced\u001b[39;00m\n\u001b[1;32m   2482\u001b[0m \u001b[38;5;66;03m# when the last Python token in the expression is a ';'.\u001b[39;00m\n\u001b[1;32m   2483\u001b[0m \u001b[38;5;28;01mif\u001b[39;00m \u001b[38;5;28mgetattr\u001b[39m(fn, magic\u001b[38;5;241m.\u001b[39mMAGIC_OUTPUT_CAN_BE_SILENCED, \u001b[38;5;28;01mFalse\u001b[39;00m):\n",
      "File \u001b[0;32m~/miniconda3/lib/python3.10/site-packages/chapyter/magic.py:304\u001b[0m, in \u001b[0;36mChapyter.chat\u001b[0;34m(self, line, cell)\u001b[0m\n\u001b[1;32m    301\u001b[0m     \u001b[38;5;28;01mreturn\u001b[39;00m\n\u001b[1;32m    302\u001b[0m current_message \u001b[38;5;241m=\u001b[39m cell\n\u001b[0;32m--> 304\u001b[0m program_out \u001b[38;5;241m=\u001b[39m \u001b[38;5;28;43mself\u001b[39;49m\u001b[38;5;241;43m.\u001b[39;49m\u001b[43mexecute_chat\u001b[49m\u001b[43m(\u001b[49m\u001b[43mcurrent_message\u001b[49m\u001b[43m,\u001b[49m\u001b[43m \u001b[49m\u001b[43margs\u001b[49m\u001b[43m,\u001b[49m\u001b[43m \u001b[49m\u001b[38;5;28;43mself\u001b[39;49m\u001b[38;5;241;43m.\u001b[39;49m\u001b[43mshell\u001b[49m\u001b[43m)\u001b[49m\n\u001b[1;32m    305\u001b[0m execution_id \u001b[38;5;241m=\u001b[39m \u001b[38;5;28mself\u001b[39m\u001b[38;5;241m.\u001b[39mshell\u001b[38;5;241m.\u001b[39mexecution_count\n\u001b[1;32m    306\u001b[0m program_out \u001b[38;5;241m=\u001b[39m \u001b[38;5;124mf\u001b[39m\u001b[38;5;124m\"\u001b[39m\u001b[38;5;124m# Assistant Code for Cell [\u001b[39m\u001b[38;5;132;01m{\u001b[39;00mexecution_id\u001b[38;5;132;01m}\u001b[39;00m\u001b[38;5;124m]:\u001b[39m\u001b[38;5;130;01m\\n\u001b[39;00m\u001b[38;5;124m\"\u001b[39m \u001b[38;5;241m+\u001b[39m program_out\n",
      "File \u001b[0;32m~/miniconda3/lib/python3.10/site-packages/chapyter/magic.py:254\u001b[0m, in \u001b[0;36mChapyter.execute_chat\u001b[0;34m(self, message, args, shell, **kwargs)\u001b[0m\n\u001b[1;32m    251\u001b[0m program \u001b[38;5;241m=\u001b[39m \u001b[38;5;28mself\u001b[39m\u001b[38;5;241m.\u001b[39m_get_program(args, chatonly\u001b[38;5;241m=\u001b[39mkwargs\u001b[38;5;241m.\u001b[39mpop(\u001b[38;5;124m\"\u001b[39m\u001b[38;5;124mchatonly\u001b[39m\u001b[38;5;124m\"\u001b[39m, \u001b[38;5;28;01mFalse\u001b[39;00m))\n\u001b[1;32m    252\u001b[0m llm \u001b[38;5;241m=\u001b[39m \u001b[38;5;28mself\u001b[39m\u001b[38;5;241m.\u001b[39m_load_model(args, program)\n\u001b[0;32m--> 254\u001b[0m response \u001b[38;5;241m=\u001b[39m \u001b[43mprogram\u001b[49m\u001b[38;5;241;43m.\u001b[39;49m\u001b[43mexecute\u001b[49m\u001b[43m(\u001b[49m\n\u001b[1;32m    255\u001b[0m \u001b[43m    \u001b[49m\u001b[43mmessage\u001b[49m\u001b[38;5;241;43m=\u001b[39;49m\u001b[43mmessage\u001b[49m\u001b[43m,\u001b[49m\n\u001b[1;32m    256\u001b[0m \u001b[43m    \u001b[49m\u001b[43mllm\u001b[49m\u001b[38;5;241;43m=\u001b[39;49m\u001b[43mllm\u001b[49m\u001b[43m,\u001b[49m\n\u001b[1;32m    257\u001b[0m \u001b[43m    \u001b[49m\u001b[43mshell\u001b[49m\u001b[38;5;241;43m=\u001b[39;49m\u001b[43mshell\u001b[49m\u001b[43m,\u001b[49m\n\u001b[1;32m    258\u001b[0m \u001b[43m    \u001b[49m\u001b[43msilent\u001b[49m\u001b[38;5;241;43m=\u001b[39;49m\u001b[38;5;129;43;01mnot\u001b[39;49;00m\u001b[43m \u001b[49m\u001b[43margs\u001b[49m\u001b[38;5;241;43m.\u001b[39;49m\u001b[43mverbose\u001b[49m\u001b[43m,\u001b[49m\n\u001b[1;32m    259\u001b[0m \u001b[43m    \u001b[49m\u001b[38;5;241;43m*\u001b[39;49m\u001b[38;5;241;43m*\u001b[39;49m\u001b[43mkwargs\u001b[49m\u001b[43m,\u001b[49m\n\u001b[1;32m    260\u001b[0m \u001b[43m\u001b[49m\u001b[43m)\u001b[49m\n\u001b[1;32m    261\u001b[0m \u001b[38;5;28;01mreturn\u001b[39;00m response\n",
      "File \u001b[0;32m~/miniconda3/lib/python3.10/site-packages/chapyter/programs.py:41\u001b[0m, in \u001b[0;36mChapyterAgentProgram.execute\u001b[0;34m(self, message, llm, shell, **kwargs)\u001b[0m\n\u001b[1;32m     38\u001b[0m response \u001b[38;5;241m=\u001b[39m raw_program_response\n\u001b[1;32m     40\u001b[0m \u001b[38;5;28;01mfor\u001b[39;00m name, hook \u001b[38;5;129;01min\u001b[39;00m \u001b[38;5;28mself\u001b[39m\u001b[38;5;241m.\u001b[39mpost_call_hooks\u001b[38;5;241m.\u001b[39mitems():\n\u001b[0;32m---> 41\u001b[0m     response \u001b[38;5;241m=\u001b[39m \u001b[43mhook\u001b[49m\u001b[43m(\u001b[49m\n\u001b[1;32m     42\u001b[0m \u001b[43m        \u001b[49m\u001b[43mresponse\u001b[49m\u001b[43m,\u001b[49m\n\u001b[1;32m     43\u001b[0m \u001b[43m        \u001b[49m\u001b[43mshell\u001b[49m\u001b[43m,\u001b[49m\n\u001b[1;32m     44\u001b[0m \u001b[43m        \u001b[49m\u001b[38;5;241;43m*\u001b[39;49m\u001b[38;5;241;43m*\u001b[39;49m\u001b[43mkwargs\u001b[49m\u001b[43m,\u001b[49m\n\u001b[1;32m     45\u001b[0m \u001b[43m    \u001b[49m\u001b[43m)\u001b[49m\n\u001b[1;32m     46\u001b[0m \u001b[38;5;28;01mreturn\u001b[39;00m response\n",
      "File \u001b[0;32m~/miniconda3/lib/python3.10/site-packages/chapyter/programs.py:142\u001b[0m, in \u001b[0;36m<lambda>\u001b[0;34m(raw_response_str, shell, **kwargs)\u001b[0m\n\u001b[1;32m    129\u001b[0m         all_converted_str\u001b[38;5;241m.\u001b[39mappend(\u001b[38;5;124m\"\u001b[39m\u001b[38;5;130;01m\\n\u001b[39;00m\u001b[38;5;124m\"\u001b[39m\u001b[38;5;241m.\u001b[39mjoin(last_non_code_str))\n\u001b[1;32m    131\u001b[0m     \u001b[38;5;28;01mreturn\u001b[39;00m \u001b[38;5;124m\"\u001b[39m\u001b[38;5;130;01m\\n\u001b[39;00m\u001b[38;5;124m\"\u001b[39m\u001b[38;5;241m.\u001b[39mjoin(all_converted_str)\n\u001b[1;32m    134\u001b[0m _DEFAULT_PROGRAM \u001b[38;5;241m=\u001b[39m ChapyterAgentProgram(\n\u001b[1;32m    135\u001b[0m     guidance_program\u001b[38;5;241m=\u001b[39mdefault_coding_guidance_program,\n\u001b[1;32m    136\u001b[0m     pre_call_hooks\u001b[38;5;241m=\u001b[39m{\n\u001b[1;32m    137\u001b[0m         \u001b[38;5;124m\"\u001b[39m\u001b[38;5;124mwrap_to_dict\u001b[39m\u001b[38;5;124m\"\u001b[39m: (\u001b[38;5;28;01mlambda\u001b[39;00m x, shell, \u001b[38;5;241m*\u001b[39m\u001b[38;5;241m*\u001b[39mkwargs: {\u001b[38;5;124m\"\u001b[39m\u001b[38;5;124mcurrent_message\u001b[39m\u001b[38;5;124m\"\u001b[39m: x})\n\u001b[1;32m    138\u001b[0m     },\n\u001b[1;32m    139\u001b[0m     post_call_hooks\u001b[38;5;241m=\u001b[39m{\n\u001b[1;32m    140\u001b[0m         \u001b[38;5;124m\"\u001b[39m\u001b[38;5;124mextract_markdown_code\u001b[39m\u001b[38;5;124m\"\u001b[39m: (\n\u001b[1;32m    141\u001b[0m             \u001b[38;5;28;01mlambda\u001b[39;00m raw_response_str, shell, \u001b[38;5;241m*\u001b[39m\u001b[38;5;241m*\u001b[39mkwargs: clean_response_str(\n\u001b[0;32m--> 142\u001b[0m                 \u001b[43mraw_response_str\u001b[49m\u001b[43m[\u001b[49m\u001b[38;5;124;43m\"\u001b[39;49m\u001b[38;5;124;43mcode\u001b[39;49m\u001b[38;5;124;43m\"\u001b[39;49m\u001b[43m]\u001b[49m\n\u001b[1;32m    143\u001b[0m             )\n\u001b[1;32m    144\u001b[0m         )\n\u001b[1;32m    145\u001b[0m     },\n\u001b[1;32m    146\u001b[0m )\n\u001b[1;32m    148\u001b[0m default_coding_history_guidance_program \u001b[38;5;241m=\u001b[39m guidance(\n\u001b[1;32m    149\u001b[0m \u001b[38;5;250m    \u001b[39m\u001b[38;5;124;03m\"\"\"\u001b[39;00m\n\u001b[1;32m    150\u001b[0m \u001b[38;5;124;03m{{#system~}}\u001b[39;00m\n\u001b[0;32m   (...)\u001b[0m\n\u001b[1;32m    162\u001b[0m \u001b[38;5;124;03m\"\"\"\u001b[39;00m\n\u001b[1;32m    163\u001b[0m )\n\u001b[1;32m    164\u001b[0m \u001b[38;5;66;03m# we don't need to add the {{current_instruction}} below {{code_history}}\u001b[39;00m\n\u001b[1;32m    165\u001b[0m \u001b[38;5;66;03m# in the template above, because after executing the current chapyter cell,\u001b[39;00m\n\u001b[1;32m    166\u001b[0m \u001b[38;5;66;03m# the instruction will be added to the history already.\u001b[39;00m\n",
      "File \u001b[0;32m~/miniconda3/lib/python3.10/site-packages/guidance/_program.py:470\u001b[0m, in \u001b[0;36mProgram.__getitem__\u001b[0;34m(self, key)\u001b[0m\n\u001b[1;32m    469\u001b[0m \u001b[38;5;28;01mdef\u001b[39;00m \u001b[38;5;21m__getitem__\u001b[39m(\u001b[38;5;28mself\u001b[39m, key):\n\u001b[0;32m--> 470\u001b[0m     \u001b[38;5;28;01mreturn\u001b[39;00m \u001b[38;5;28;43mself\u001b[39;49m\u001b[38;5;241;43m.\u001b[39;49m\u001b[43m_variables\u001b[49m\u001b[43m[\u001b[49m\u001b[43mkey\u001b[49m\u001b[43m]\u001b[49m\n",
      "\u001b[0;31mKeyError\u001b[0m: 'code'"
     ]
    }
   ],
   "source": [
    "%%chat \n",
    "list all the files in the current directory"
   ]
  },
  {
   "cell_type": "code",
   "execution_count": 5,
   "id": "93c33a3e-710a-4472-922c-1458d98c32d0",
   "metadata": {
    "ChapyterCell": {
     "cellType": "generated",
     "linkedCellId": "effc4a91-fc5e-42c9-b576-e0c37ecd4478"
    }
   },
   "outputs": [
    {
     "name": "stdout",
     "output_type": "stream",
     "text": [
      "['test', '.env', 'starter-Copy2.ipynb', '.ipynb_checkpoints', 'starter.ipynb', 'starter-Copy1.ipynb']\n"
     ]
    }
   ],
   "source": [
    "# Assistant Code for Cell [2]:\n",
    "# Sure, here is the Python code to list all the files in the current directory:\n",
    "import os\n",
    "\n",
    "files = os.listdir('.')\n",
    "print(files)"
   ]
  },
  {
   "cell_type": "code",
   "execution_count": 3,
   "id": "29533815-5d55-4281-8446-f2e1b810b040",
   "metadata": {
    "ChapyterCell": {
     "cellType": "original",
     "linkedCellId": "84daa58f-c55d-4b75-8540-47eb6d0441df"
    }
   },
   "outputs": [],
   "source": [
    "%%chat \n",
    "\n",
    "find the files in the current directory that has the longest file name "
   ]
  },
  {
   "cell_type": "code",
   "execution_count": 6,
   "id": "84daa58f-c55d-4b75-8540-47eb6d0441df",
   "metadata": {
    "ChapyterCell": {
     "cellType": "generated",
     "linkedCellId": "29533815-5d55-4281-8446-f2e1b810b040"
    },
    "jupyter": {
     "source_hidden": true
    }
   },
   "outputs": [
    {
     "name": "stdout",
     "output_type": "stream",
     "text": [
      "starter-Copy2.ipynb\n"
     ]
    }
   ],
   "source": [
    "# Assistant Code for Cell [3]:\n",
    "# Sure, here is the Python code to find the file with the longest name in the current directory.\n",
    "import os\n",
    "\n",
    "# Get all files in current directory\n",
    "files = os.listdir('.')\n",
    "\n",
    "# Find the file with the longest name\n",
    "longest_file = max(files, key=len)\n",
    "\n",
    "print(longest_file)\n",
    "# This code will print the name of the file with the longest name in the current directory."
   ]
  },
  {
   "cell_type": "code",
   "execution_count": 4,
   "id": "7f055c4f-f714-4620-9e1e-d629ab8a4d87",
   "metadata": {
    "ChapyterCell": {
     "cellType": "original",
     "linkedCellId": "c2927cf9-766e-4c03-b039-5d6ece37d958"
    }
   },
   "outputs": [],
   "source": [
    "%%chat \n",
    "\n",
    "Generate a dictionary that groups the files in the current folder based on their types"
   ]
  },
  {
   "cell_type": "code",
   "execution_count": 7,
   "id": "c2927cf9-766e-4c03-b039-5d6ece37d958",
   "metadata": {
    "ChapyterCell": {
     "cellType": "generated",
     "linkedCellId": "7f055c4f-f714-4620-9e1e-d629ab8a4d87"
    },
    "jupyter": {
     "source_hidden": true
    }
   },
   "outputs": [
    {
     "name": "stdout",
     "output_type": "stream",
     "text": [
      "{'': ['test', '.env', '.ipynb_checkpoints'], '.ipynb': ['starter-Copy2.ipynb', 'starter.ipynb', 'starter-Copy1.ipynb']}\n"
     ]
    }
   ],
   "source": [
    "# Assistant Code for Cell [4]:\n",
    "# Sure, here is a Python script that does that:\n",
    "import os\n",
    "\n",
    "# Get all files in current directory\n",
    "files = os.listdir('.')\n",
    "\n",
    "# Initialize an empty dictionary to store the file types and names\n",
    "file_dict = {}\n",
    "\n",
    "# Loop through each file\n",
    "for file in files:\n",
    "    # Get the file extension\n",
    "    file_type = os.path.splitext(file)[1]\n",
    "    \n",
    "    # If the file type is not in the dictionary, add it\n",
    "    if file_type not in file_dict:\n",
    "        file_dict[file_type] = []\n",
    "    \n",
    "    # Add the file name to the list of files for this type\n",
    "    file_dict[file_type].append(file)\n",
    "\n",
    "print(file_dict)\n",
    "# This script will print a dictionary where the keys are file extensions (like '.txt', '.py', etc.) and the values are lists of file names with that extension."
   ]
  },
  {
   "cell_type": "markdown",
   "id": "8a696eca-5a97-4138-9acc-518db632b5c5",
   "metadata": {},
   "source": [
    "### `%%chat -h` will add execution history into the prompt "
   ]
  },
  {
   "cell_type": "code",
   "execution_count": 8,
   "id": "57e0a283-95d9-410a-bcdb-9efde7d252b2",
   "metadata": {
    "ChapyterCell": {
     "cellType": "original",
     "linkedCellId": "2285fa4c-14ed-4d7f-861f-aba5c89d1daa"
    }
   },
   "outputs": [],
   "source": [
    "%%chat -h \n",
    "\n",
    "Define functions for the code above:"
   ]
  },
  {
   "cell_type": "code",
   "execution_count": 9,
   "id": "2285fa4c-14ed-4d7f-861f-aba5c89d1daa",
   "metadata": {
    "ChapyterCell": {
     "cellType": "generated",
     "linkedCellId": "57e0a283-95d9-410a-bcdb-9efde7d252b2"
    },
    "jupyter": {
     "source_hidden": true
    }
   },
   "outputs": [
    {
     "name": "stdout",
     "output_type": "stream",
     "text": [
      "['test', '.env', 'starter-Copy2.ipynb', '.ipynb_checkpoints', 'starter.ipynb', 'starter-Copy1.ipynb']\n",
      "starter-Copy2.ipynb\n",
      "{'': ['test', '.env', '.ipynb_checkpoints'], '.ipynb': ['starter-Copy2.ipynb', 'starter.ipynb', 'starter-Copy1.ipynb']}\n"
     ]
    }
   ],
   "source": [
    "# Assistant Code for Cell [8]:\n",
    "# Sure, here is how you can define functions for the code above:\n",
    "import os\n",
    "\n",
    "def list_files():\n",
    "    files = os.listdir('.')\n",
    "    return files\n",
    "\n",
    "def find_longest_file():\n",
    "    files = list_files()\n",
    "    longest_file = max(files, key=len)\n",
    "    return longest_file\n",
    "\n",
    "def group_files_by_type():\n",
    "    files = list_files()\n",
    "    file_dict = {}\n",
    "    for file in files:\n",
    "        file_type = os.path.splitext(file)[1]\n",
    "        if file_type not in file_dict:\n",
    "            file_dict[file_type] = []\n",
    "        file_dict[file_type].append(file)\n",
    "    return file_dict\n",
    "\n",
    "# To use these functions, you can call them like this:\n",
    "print(list_files())\n",
    "print(find_longest_file())\n",
    "print(group_files_by_type())\n",
    "# In this code, `list_files` function lists all the files in the current directory, `find_longest_file` function finds the file with the longest name in the current directory, and `group_files_by_type` function generates a dictionary that groups the files in the current folder based on their types."
   ]
  },
  {
   "cell_type": "markdown",
   "id": "689298e8-7070-43c1-927a-a5521b2ee08d",
   "metadata": {},
   "source": [
    "### `%%chat -s` or `%%chat --safe` will invoke safe mode that won't execute the cells "
   ]
  },
  {
   "cell_type": "code",
   "execution_count": 6,
   "id": "f353789b-c8e7-467c-bce6-1ed02eb33fe9",
   "metadata": {
    "ChapyterCell": {
     "cellType": "original",
     "linkedCellId": "54c09d95-8df0-41b5-89a2-28475f7d0c47"
    }
   },
   "outputs": [],
   "source": [
    "%%chat -s \n",
    "\n",
    "Generate a dictionary that groups the files in the current folder based on their types"
   ]
  },
  {
   "cell_type": "code",
   "execution_count": null,
   "id": "54c09d95-8df0-41b5-89a2-28475f7d0c47",
   "metadata": {
    "ChapyterCell": {
     "cellType": "generated",
     "linkedCellId": "f353789b-c8e7-467c-bce6-1ed02eb33fe9"
    }
   },
   "outputs": [],
   "source": [
    "# Assistant Code for Cell [6]:\n",
    "# Sure, here is a Python script that does that:\n",
    "import os\n",
    "\n",
    "# Get all files in current directory\n",
    "files = os.listdir('.')\n",
    "\n",
    "# Initialize an empty dictionary to store the file types and names\n",
    "file_dict = {}\n",
    "\n",
    "# Loop through each file\n",
    "for file in files:\n",
    "    # Get the file extension\n",
    "    file_type = os.path.splitext(file)[1]\n",
    "    \n",
    "    # If the file type is not in the dictionary, add it\n",
    "    if file_type not in file_dict:\n",
    "        file_dict[file_type] = []\n",
    "    \n",
    "    # Add the file name to the list of files for this type\n",
    "    file_dict[file_type].append(file)\n",
    "\n",
    "print(file_dict)\n",
    "# This script will print a dictionary where the keys are file extensions (like '.txt', '.py', etc.) and the values are lists of file names with that extension."
   ]
  },
  {
   "cell_type": "markdown",
   "id": "0e89ac15-bf8f-4763-bab0-2dcb089e96c3",
   "metadata": {},
   "source": [
    "### `%%chatonly` allows you to talk to an agent in regular ways "
   ]
  },
  {
   "cell_type": "code",
   "execution_count": 10,
   "id": "fdebb778-26a4-4db4-9a74-9191d54516c3",
   "metadata": {},
   "outputs": [
    {
     "name": "stdout",
     "output_type": "stream",
     "text": [
      "In the realm of code, where logic is the language,\n",
      "There exists a serpent, not of danger, but of change.\n",
      "Python, they call it, a creature of grace,\n",
      "In the world of programming, it's found its place.\n",
      "\n",
      "Lines of elegance, simplicity its charm,\n",
      "For beginners and experts, it causes no harm.\n",
      "From data science to web design,\n",
      "Its versatility is truly divine.\n",
      "\n",
      "Indentation matters, in its syntax so neat,\n",
      "Making code readable, a feat so sweet.\n",
      "With libraries abundant, like stars in the sky,\n",
      "The solutions it offers, they never run dry.\n",
      "\n",
      "In the heart of a coder, Python ignites a flame,\n",
      "Turning problems to solutions, that's the aim.\n",
      "From machine learning to artificial intelligence,\n",
      "It breaks all barriers, knows no resistance.\n",
      "\n",
      "Python, oh Python, in bytes we converse,\n",
      "Your presence in coding universe is diverse.\n",
      "In the dance of algorithms, you're a trusted partner,\n",
      "For many a programmer, you're the lantern.\n",
      "\n",
      "So here's to Python, a toast, a cheer,\n",
      "To a language we coders, hold so dear.\n",
      "In the world of technology, constantly in motion,\n",
      "Python flows like a smooth, steady ocean.\n"
     ]
    }
   ],
   "source": [
    "%%chatonly\n",
    "Can you write a poem for the python programming language? "
   ]
  }
 ],
 "metadata": {
  "kernelspec": {
   "display_name": "Python 3 (ipykernel)",
   "language": "python",
   "name": "python3"
  },
  "language_info": {
   "codemirror_mode": {
    "name": "ipython",
    "version": 3
   },
   "file_extension": ".py",
   "mimetype": "text/x-python",
   "name": "python",
   "nbconvert_exporter": "python",
   "pygments_lexer": "ipython3",
   "version": "3.10.9"
  }
 },
 "nbformat": 4,
 "nbformat_minor": 5
}
