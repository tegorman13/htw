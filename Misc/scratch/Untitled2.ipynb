{
 "cells": [
  {
   "cell_type": "code",
   "execution_count": 1,
   "id": "72564a2f",
   "metadata": {},
   "outputs": [],
   "source": [
    "%load_ext jupyter_ai"
   ]
  },
  {
   "cell_type": "code",
   "execution_count": 2,
   "id": "80eb8512-3093-48bc-b125-b290d60f095b",
   "metadata": {},
   "outputs": [
    {
     "ename": "OSError",
     "evalue": "Authentication environment variable OPENAI_API_KEY not provided.\nAn authentication token is required to use models from the OpenAI provider.\nPlease specify it via `%env OPENAI_API_KEY=token`. ",
     "output_type": "error",
     "traceback": [
      "\u001b[0;31m---------------------------------------------------------------------------\u001b[0m",
      "\u001b[0;31mOSError\u001b[0m                                   Traceback (most recent call last)",
      "Cell \u001b[0;32mIn[2], line 1\u001b[0m\n\u001b[0;32m----> 1\u001b[0m \u001b[43mget_ipython\u001b[49m\u001b[43m(\u001b[49m\u001b[43m)\u001b[49m\u001b[38;5;241;43m.\u001b[39;49m\u001b[43mrun_cell_magic\u001b[49m\u001b[43m(\u001b[49m\u001b[38;5;124;43m'\u001b[39;49m\u001b[38;5;124;43mai\u001b[39;49m\u001b[38;5;124;43m'\u001b[39;49m\u001b[43m,\u001b[49m\u001b[43m \u001b[49m\u001b[38;5;124;43m'\u001b[39;49m\u001b[38;5;124;43mchatgpt\u001b[39;49m\u001b[38;5;124;43m'\u001b[39;49m\u001b[43m,\u001b[49m\u001b[43m \u001b[49m\u001b[38;5;124;43m'\u001b[39;49m\u001b[38;5;124;43mplease briefly explain bayesian mixed effects models\u001b[39;49m\u001b[38;5;130;43;01m\\n\u001b[39;49;00m\u001b[38;5;124;43m'\u001b[39;49m\u001b[43m)\u001b[49m\n",
      "File \u001b[0;32m~/miniconda3/lib/python3.10/site-packages/IPython/core/interactiveshell.py:2478\u001b[0m, in \u001b[0;36mInteractiveShell.run_cell_magic\u001b[0;34m(self, magic_name, line, cell)\u001b[0m\n\u001b[1;32m   2476\u001b[0m \u001b[38;5;28;01mwith\u001b[39;00m \u001b[38;5;28mself\u001b[39m\u001b[38;5;241m.\u001b[39mbuiltin_trap:\n\u001b[1;32m   2477\u001b[0m     args \u001b[38;5;241m=\u001b[39m (magic_arg_s, cell)\n\u001b[0;32m-> 2478\u001b[0m     result \u001b[38;5;241m=\u001b[39m \u001b[43mfn\u001b[49m\u001b[43m(\u001b[49m\u001b[38;5;241;43m*\u001b[39;49m\u001b[43margs\u001b[49m\u001b[43m,\u001b[49m\u001b[43m \u001b[49m\u001b[38;5;241;43m*\u001b[39;49m\u001b[38;5;241;43m*\u001b[39;49m\u001b[43mkwargs\u001b[49m\u001b[43m)\u001b[49m\n\u001b[1;32m   2480\u001b[0m \u001b[38;5;66;03m# The code below prevents the output from being displayed\u001b[39;00m\n\u001b[1;32m   2481\u001b[0m \u001b[38;5;66;03m# when using magics with decodator @output_can_be_silenced\u001b[39;00m\n\u001b[1;32m   2482\u001b[0m \u001b[38;5;66;03m# when the last Python token in the expression is a ';'.\u001b[39;00m\n\u001b[1;32m   2483\u001b[0m \u001b[38;5;28;01mif\u001b[39;00m \u001b[38;5;28mgetattr\u001b[39m(fn, magic\u001b[38;5;241m.\u001b[39mMAGIC_OUTPUT_CAN_BE_SILENCED, \u001b[38;5;28;01mFalse\u001b[39;00m):\n",
      "File \u001b[0;32m~/miniconda3/lib/python3.10/site-packages/jupyter_ai_magics/magics.py:603\u001b[0m, in \u001b[0;36mAiMagics.ai\u001b[0;34m(self, line, cell)\u001b[0m\n\u001b[1;32m    600\u001b[0m ip \u001b[38;5;241m=\u001b[39m get_ipython()\n\u001b[1;32m    601\u001b[0m prompt \u001b[38;5;241m=\u001b[39m prompt\u001b[38;5;241m.\u001b[39mformat_map(FormatDict(ip\u001b[38;5;241m.\u001b[39muser_ns))\n\u001b[0;32m--> 603\u001b[0m \u001b[38;5;28;01mreturn\u001b[39;00m \u001b[38;5;28;43mself\u001b[39;49m\u001b[38;5;241;43m.\u001b[39;49m\u001b[43mrun_ai_cell\u001b[49m\u001b[43m(\u001b[49m\u001b[43margs\u001b[49m\u001b[43m,\u001b[49m\u001b[43m \u001b[49m\u001b[43mprompt\u001b[49m\u001b[43m)\u001b[49m\n",
      "File \u001b[0;32m~/miniconda3/lib/python3.10/site-packages/jupyter_ai_magics/magics.py:508\u001b[0m, in \u001b[0;36mAiMagics.run_ai_cell\u001b[0;34m(self, args, prompt)\u001b[0m\n\u001b[1;32m    505\u001b[0m \u001b[38;5;28;01mif\u001b[39;00m auth_strategy:\n\u001b[1;32m    506\u001b[0m     \u001b[38;5;66;03m# TODO: handle auth strategies besides EnvAuthStrategy\u001b[39;00m\n\u001b[1;32m    507\u001b[0m     \u001b[38;5;28;01mif\u001b[39;00m auth_strategy\u001b[38;5;241m.\u001b[39mtype \u001b[38;5;241m==\u001b[39m \u001b[38;5;124m\"\u001b[39m\u001b[38;5;124menv\u001b[39m\u001b[38;5;124m\"\u001b[39m \u001b[38;5;129;01mand\u001b[39;00m auth_strategy\u001b[38;5;241m.\u001b[39mname \u001b[38;5;129;01mnot\u001b[39;00m \u001b[38;5;129;01min\u001b[39;00m os\u001b[38;5;241m.\u001b[39menviron:\n\u001b[0;32m--> 508\u001b[0m         \u001b[38;5;28;01mraise\u001b[39;00m \u001b[38;5;167;01mOSError\u001b[39;00m(\n\u001b[1;32m    509\u001b[0m             \u001b[38;5;124mf\u001b[39m\u001b[38;5;124m\"\u001b[39m\u001b[38;5;124mAuthentication environment variable \u001b[39m\u001b[38;5;132;01m{\u001b[39;00mauth_strategy\u001b[38;5;241m.\u001b[39mname\u001b[38;5;132;01m}\u001b[39;00m\u001b[38;5;124m not provided.\u001b[39m\u001b[38;5;130;01m\\n\u001b[39;00m\u001b[38;5;124m\"\u001b[39m\n\u001b[1;32m    510\u001b[0m             \u001b[38;5;124mf\u001b[39m\u001b[38;5;124m\"\u001b[39m\u001b[38;5;124mAn authentication token is required to use models from the \u001b[39m\u001b[38;5;132;01m{\u001b[39;00mProvider\u001b[38;5;241m.\u001b[39mname\u001b[38;5;132;01m}\u001b[39;00m\u001b[38;5;124m provider.\u001b[39m\u001b[38;5;130;01m\\n\u001b[39;00m\u001b[38;5;124m\"\u001b[39m\n\u001b[1;32m    511\u001b[0m             \u001b[38;5;124mf\u001b[39m\u001b[38;5;124m\"\u001b[39m\u001b[38;5;124mPlease specify it via `%env \u001b[39m\u001b[38;5;132;01m{\u001b[39;00mauth_strategy\u001b[38;5;241m.\u001b[39mname\u001b[38;5;132;01m}\u001b[39;00m\u001b[38;5;124m=token`. \u001b[39m\u001b[38;5;124m\"\u001b[39m\n\u001b[1;32m    512\u001b[0m         ) \u001b[38;5;28;01mfrom\u001b[39;00m \u001b[38;5;28;01mNone\u001b[39;00m\n\u001b[1;32m    514\u001b[0m \u001b[38;5;66;03m# configure and instantiate provider\u001b[39;00m\n\u001b[1;32m    515\u001b[0m provider_params \u001b[38;5;241m=\u001b[39m {\u001b[38;5;124m\"\u001b[39m\u001b[38;5;124mmodel_id\u001b[39m\u001b[38;5;124m\"\u001b[39m: local_model_id}\n",
      "\u001b[0;31mOSError\u001b[0m: Authentication environment variable OPENAI_API_KEY not provided.\nAn authentication token is required to use models from the OpenAI provider.\nPlease specify it via `%env OPENAI_API_KEY=token`. "
     ]
    }
   ],
   "source": [
    "%%ai chatgpt\n",
    "please briefly explain bayesian mixed effects models"
   ]
  },
  {
   "cell_type": "code",
   "execution_count": 4,
   "id": "97221cdf-df57-47ea-8183-01803a37ccdf",
   "metadata": {},
   "outputs": [
    {
     "data": {
      "text/html": [
       "<style>\n",
       ".list-inline {list-style: none; margin:0; padding: 0}\n",
       ".list-inline>li {display: inline-block}\n",
       ".list-inline>li:not(:last-child)::after {content: \"\\00b7\"; padding: 0 .5ex}\n",
       "</style>\n",
       "<ol class=list-inline><li>'big_text'</li><li>'darjeeling'</li><li>'e1'</li><li>'filter'</li><li>'gen_trials'</li><li>'gt_temp'</li><li>'learn_curve_bins'</li><li>'learn_curve_plot'</li><li>'learn_curve_plot2'</li><li>'learn_curve_table'</li><li>'map'</li><li>'mutate'</li><li>'normal_predictive_distribution'</li><li>'OPENAI_API_KEY'</li><li>'pf'</li><li>'pfLc'</li><li>'plot_theme'</li><li>'plotDist'</li><li>'plotWithTable'</li><li>'print.functions'</li><li>'scale_colour_discrete'</li><li>'scale_fill_discrete'</li><li>'select'</li><li>'stest'</li><li>'test'</li><li>'test2'</li><li>'testAvg'</li><li>'trainTab'</li></ol>\n"
      ],
      "text/latex": [
       "\\begin{enumerate*}\n",
       "\\item 'big\\_text'\n",
       "\\item 'darjeeling'\n",
       "\\item 'e1'\n",
       "\\item 'filter'\n",
       "\\item 'gen\\_trials'\n",
       "\\item 'gt\\_temp'\n",
       "\\item 'learn\\_curve\\_bins'\n",
       "\\item 'learn\\_curve\\_plot'\n",
       "\\item 'learn\\_curve\\_plot2'\n",
       "\\item 'learn\\_curve\\_table'\n",
       "\\item 'map'\n",
       "\\item 'mutate'\n",
       "\\item 'normal\\_predictive\\_distribution'\n",
       "\\item 'OPENAI\\_API\\_KEY'\n",
       "\\item 'pf'\n",
       "\\item 'pfLc'\n",
       "\\item 'plot\\_theme'\n",
       "\\item 'plotDist'\n",
       "\\item 'plotWithTable'\n",
       "\\item 'print.functions'\n",
       "\\item 'scale\\_colour\\_discrete'\n",
       "\\item 'scale\\_fill\\_discrete'\n",
       "\\item 'select'\n",
       "\\item 'stest'\n",
       "\\item 'test'\n",
       "\\item 'test2'\n",
       "\\item 'testAvg'\n",
       "\\item 'trainTab'\n",
       "\\end{enumerate*}\n"
      ],
      "text/markdown": [
       "1. 'big_text'\n",
       "2. 'darjeeling'\n",
       "3. 'e1'\n",
       "4. 'filter'\n",
       "5. 'gen_trials'\n",
       "6. 'gt_temp'\n",
       "7. 'learn_curve_bins'\n",
       "8. 'learn_curve_plot'\n",
       "9. 'learn_curve_plot2'\n",
       "10. 'learn_curve_table'\n",
       "11. 'map'\n",
       "12. 'mutate'\n",
       "13. 'normal_predictive_distribution'\n",
       "14. 'OPENAI_API_KEY'\n",
       "15. 'pf'\n",
       "16. 'pfLc'\n",
       "17. 'plot_theme'\n",
       "18. 'plotDist'\n",
       "19. 'plotWithTable'\n",
       "20. 'print.functions'\n",
       "21. 'scale_colour_discrete'\n",
       "22. 'scale_fill_discrete'\n",
       "23. 'select'\n",
       "24. 'stest'\n",
       "25. 'test'\n",
       "26. 'test2'\n",
       "27. 'testAvg'\n",
       "28. 'trainTab'\n",
       "\n",
       "\n"
      ],
      "text/plain": [
       " [1] \"big_text\"                       \"darjeeling\"                    \n",
       " [3] \"e1\"                             \"filter\"                        \n",
       " [5] \"gen_trials\"                     \"gt_temp\"                       \n",
       " [7] \"learn_curve_bins\"               \"learn_curve_plot\"              \n",
       " [9] \"learn_curve_plot2\"              \"learn_curve_table\"             \n",
       "[11] \"map\"                            \"mutate\"                        \n",
       "[13] \"normal_predictive_distribution\" \"OPENAI_API_KEY\"                \n",
       "[15] \"pf\"                             \"pfLc\"                          \n",
       "[17] \"plot_theme\"                     \"plotDist\"                      \n",
       "[19] \"plotWithTable\"                  \"print.functions\"               \n",
       "[21] \"scale_colour_discrete\"          \"scale_fill_discrete\"           \n",
       "[23] \"select\"                         \"stest\"                         \n",
       "[25] \"test\"                           \"test2\"                         \n",
       "[27] \"testAvg\"                        \"trainTab\"                      "
      ]
     },
     "metadata": {},
     "output_type": "display_data"
    }
   ],
   "source": [
    "ls()"
   ]
  }
 ],
 "metadata": {
  "kernelspec": {
   "display_name": "R",
   "language": "R",
   "name": "ir"
  },
  "language_info": {
   "codemirror_mode": "r",
   "file_extension": ".r",
   "mimetype": "text/x-r-source",
   "name": "R",
   "pygments_lexer": "r",
   "version": "4.3.1"
  }
 },
 "nbformat": 4,
 "nbformat_minor": 5
}
