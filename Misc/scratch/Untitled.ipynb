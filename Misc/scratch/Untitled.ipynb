{
 "cells": [
  {
   "cell_type": "code",
   "execution_count": 18,
   "id": "e45a84e3",
   "metadata": {},
   "outputs": [],
   "source": [
    "pacman::p_load(tidyverse,tidybayes,brms,broom,broom.mixed,lme4,emmeans,here,knitr,kableExtra,gt,gghalves,patchwork,ggforce,ggdist)\n",
    "e1 <- readRDS(here(\"data/e1_07-27-23.rds\"))\n",
    "source(here(\"Functions/Display_Functions.R\"))\n",
    "source(here(\"Functions/org_functions.R\"))\n",
    "\n",
    "\n",
    "\n",
    "test <- e1 |>  filter(expMode2 == \"Test\")\n",
    "test <- test |> mutate(id=factor(id,levels=unique(id)),\n",
    "         vxbn=vxb/max(test$vxb),vxn=vx/max(test$vx),bandIntn=bandInt/max(test$vx),bandIntnb=bandInt/max(test$vxb),svx=scale(vx, scale = TRUE),\n",
    "         vxC=ifelse(vx>2000,2000,vx))\n",
    "\n",
    "testAvg <- test %>% group_by(id, condit, vb, bandInt,bandType,tOrder) %>%\n",
    "  summarise(nHits=sum(dist==0),vxMean=mean(vx),vxMed=median(vx),dist=mean(dist),sdist=mean(sdist),n=n(),Percent_Hit=nHits/n)\n",
    "\n",
    "options(mc.cores = 4, brms.backend = \"cmdstanr\")\n"
   ]
  },
  {
   "cell_type": "code",
   "execution_count": 4,
   "id": "838f89ab",
   "metadata": {
    "scrolled": true
   },
   "outputs": [
    {
     "name": "stdout",
     "output_type": "stream",
     "text": [
      "\u001b[90m# A tibble: 6 × 50\u001b[39m\n",
      "  id    sbjCode condit fb    tOrder trial expMode2 band  vb    bandInt bandOrder\n",
      "  \u001b[3m\u001b[90m<fct>\u001b[39m\u001b[23m \u001b[3m\u001b[90m<fct>\u001b[39m\u001b[23m   \u001b[3m\u001b[90m<fct>\u001b[39m\u001b[23m  \u001b[3m\u001b[90m<fct>\u001b[39m\u001b[23m \u001b[3m\u001b[90m<fct>\u001b[39m\u001b[23m  \u001b[3m\u001b[90m<dbl>\u001b[39m\u001b[23m \u001b[3m\u001b[90m<fct>\u001b[39m\u001b[23m    \u001b[3m\u001b[90m<fct>\u001b[39m\u001b[23m \u001b[3m\u001b[90m<fct>\u001b[39m\u001b[23m   \u001b[3m\u001b[90m<dbl>\u001b[39m\u001b[23m \u001b[3m\u001b[90m<fct>\u001b[39m\u001b[23m    \n",
      "\u001b[90m1\u001b[39m 1     42367   Varied Cont… train…   118 Test     5     1000…    \u001b[4m1\u001b[24m000 Original \n",
      "\u001b[90m2\u001b[39m 1     42367   Varied Cont… train…   119 Test     5     1000…    \u001b[4m1\u001b[24m000 Original \n",
      "\u001b[90m3\u001b[39m 1     42367   Varied Cont… train…   120 Test     4     800-…     800 Original \n",
      "\u001b[90m4\u001b[39m 1     42367   Varied Cont… train…   121 Test     5     1000…    \u001b[4m1\u001b[24m000 Original \n",
      "\u001b[90m5\u001b[39m 1     42367   Varied Cont… train…   122 Test     6     1200…    \u001b[4m1\u001b[24m200 Original \n",
      "\u001b[90m6\u001b[39m 1     42367   Varied Cont… train…   123 Test     6     1200…    \u001b[4m1\u001b[24m200 Original \n",
      "\u001b[90m# ℹ 39 more variables: bandType <fct>, vx <dbl>, dist <dbl>, sdist <dbl>,\u001b[39m\n",
      "\u001b[90m#   vxb <dbl>, vxi <dbl>, vy <dbl>, result <chr>, vxCat <fct>, prev <fct>,\u001b[39m\n",
      "\u001b[90m#   bandSeq <fct>, launchX <dbl>, launchY <dbl>, lowBound <fct>,\u001b[39m\n",
      "\u001b[90m#   highBound <dbl>, nGoodTrial <int>, nTrain <int>, nTestNf <int>, nInt <int>,\u001b[39m\n",
      "\u001b[90m#   nTestF <int>, nTotal <int>, gt.train <int>, gt.bandStage <int>,\u001b[39m\n",
      "\u001b[90m#   gt.stage <int>, stage <ord>, expMode <fct>, trainStage <ord>,\u001b[39m\n",
      "\u001b[90m#   lastTrain <int>, lastTrial <int>, trainVec <chr>, fullCond <fct>, …\u001b[39m\n"
     ]
    }
   ],
   "source": [
    "print(head(test))"
   ]
  },
  {
   "cell_type": "code",
   "execution_count": 1,
   "id": "9e2db80d",
   "metadata": {
    "scrolled": true
   },
   "outputs": [
    {
     "ename": "ERROR",
     "evalue": "Error in brm(vx ~ 1, data = test, family = gaussian(), prior = c(prior(normal(800, : could not find function \"brm\"\n",
     "output_type": "error",
     "traceback": [
      "Error in brm(vx ~ 1, data = test, family = gaussian(), prior = c(prior(normal(800, : could not find function \"brm\"\nTraceback:\n"
     ]
    }
   ],
   "source": [
    "\n",
    "fit_int_norm <- brm(vx ~ 1, # 2.1 sec execution time with 4 cores\n",
    "  data = test,\n",
    "  family = gaussian(),\n",
    "  prior = c(\n",
    "    prior(normal(800, 10), class = Intercept),\n",
    "    # `brms` knows that SDs need to be bounded\n",
    "    # to exclude values below zero:\n",
    "    prior(normal(400, 10), class = sigma)\n",
    "  )\n",
    ")\n",
    "\n",
    "\n",
    "\n",
    "fit_int_norm\n",
    "\n"
   ]
  },
  {
   "cell_type": "code",
   "execution_count": 12,
   "id": "b6481310",
   "metadata": {
    "scrolled": true
   },
   "outputs": [
    {
     "name": "stdout",
     "output_type": "stream",
     "text": [
      " Family: gaussian \n",
      "  Links: mu = identity; sigma = identity \n",
      "Formula: vx ~ 1 \n",
      "   Data: test (Number of observations: 10109) \n",
      "  Draws: 4 chains, each with iter = 2000; warmup = 1000; thin = 1;\n",
      "         total post-warmup draws = 4000\n",
      "\n",
      "Population-Level Effects: \n",
      "          Estimate Est.Error l-95% CI u-95% CI Rhat Bulk_ESS Tail_ESS\n",
      "Intercept   830.35      4.00   822.43   838.03 1.00     3001     2261\n",
      "\n",
      "Family Specific Parameters: \n",
      "      Estimate Est.Error l-95% CI u-95% CI Rhat Bulk_ESS Tail_ESS\n",
      "sigma   432.97      2.85   427.47   438.55 1.00     3107     2457\n",
      "\n",
      "Draws were sampled using sample(hmc). For each parameter, Bulk_ESS\n",
      "and Tail_ESS are effective sample size measures, and Rhat is the potential\n",
      "scale reduction factor on split chains (at convergence, Rhat = 1).\n"
     ]
    }
   ],
   "source": [
    "print(fit_int_norm)"
   ]
  },
  {
   "cell_type": "code",
   "execution_count": 13,
   "id": "2d743d90",
   "metadata": {},
   "outputs": [
    {
     "data": {
      "text/html": [
       "<table class=\"dataframe\">\n",
       "<caption>A data.frame: 4 × 2</caption>\n",
       "<thead>\n",
       "\t<tr><th scope=col>name</th><th scope=col>python</th></tr>\n",
       "\t<tr><th scope=col>&lt;chr&gt;</th><th scope=col>&lt;chr&gt;</th></tr>\n",
       "</thead>\n",
       "<tbody>\n",
       "\t<tr><td>base        </td><td>/Users/thomasgorman/Library/r-miniconda-arm64/bin/python                  </td></tr>\n",
       "\t<tr><td>r-reticulate</td><td>/Users/thomasgorman/Library/r-miniconda-arm64/envs/r-reticulate/bin/python</td></tr>\n",
       "\t<tr><td>miniconda3  </td><td>/Users/thomasgorman/miniconda3/bin/python                                 </td></tr>\n",
       "\t<tr><td>h2ogpt      </td><td>/Users/thomasgorman/miniconda3/envs/h2ogpt/bin/python                     </td></tr>\n",
       "</tbody>\n",
       "</table>\n"
      ],
      "text/latex": [
       "A data.frame: 4 × 2\n",
       "\\begin{tabular}{ll}\n",
       " name & python\\\\\n",
       " <chr> & <chr>\\\\\n",
       "\\hline\n",
       "\t base         & /Users/thomasgorman/Library/r-miniconda-arm64/bin/python                  \\\\\n",
       "\t r-reticulate & /Users/thomasgorman/Library/r-miniconda-arm64/envs/r-reticulate/bin/python\\\\\n",
       "\t miniconda3   & /Users/thomasgorman/miniconda3/bin/python                                 \\\\\n",
       "\t h2ogpt       & /Users/thomasgorman/miniconda3/envs/h2ogpt/bin/python                     \\\\\n",
       "\\end{tabular}\n"
      ],
      "text/markdown": [
       "\n",
       "A data.frame: 4 × 2\n",
       "\n",
       "| name &lt;chr&gt; | python &lt;chr&gt; |\n",
       "|---|---|\n",
       "| base         | /Users/thomasgorman/Library/r-miniconda-arm64/bin/python                   |\n",
       "| r-reticulate | /Users/thomasgorman/Library/r-miniconda-arm64/envs/r-reticulate/bin/python |\n",
       "| miniconda3   | /Users/thomasgorman/miniconda3/bin/python                                  |\n",
       "| h2ogpt       | /Users/thomasgorman/miniconda3/envs/h2ogpt/bin/python                      |\n",
       "\n"
      ],
      "text/plain": [
       "  name        \n",
       "1 base        \n",
       "2 r-reticulate\n",
       "3 miniconda3  \n",
       "4 h2ogpt      \n",
       "  python                                                                    \n",
       "1 /Users/thomasgorman/Library/r-miniconda-arm64/bin/python                  \n",
       "2 /Users/thomasgorman/Library/r-miniconda-arm64/envs/r-reticulate/bin/python\n",
       "3 /Users/thomasgorman/miniconda3/bin/python                                 \n",
       "4 /Users/thomasgorman/miniconda3/envs/h2ogpt/bin/python                     "
      ]
     },
     "metadata": {},
     "output_type": "display_data"
    },
    {
     "data": {
      "text/plain": [
       "python:         /Users/thomasgorman/Library/r-miniconda-arm64/envs/r-reticulate/bin/python\n",
       "libpython:      /Users/thomasgorman/Library/r-miniconda-arm64/envs/r-reticulate/lib/libpython3.8.dylib\n",
       "pythonhome:     /Users/thomasgorman/Library/r-miniconda-arm64/envs/r-reticulate:/Users/thomasgorman/Library/r-miniconda-arm64/envs/r-reticulate\n",
       "version:        3.8.16 | packaged by conda-forge | (default, Feb  1 2023, 16:01:13)  [Clang 14.0.6 ]\n",
       "numpy:          /Users/thomasgorman/Library/r-miniconda-arm64/envs/r-reticulate/lib/python3.8/site-packages/numpy\n",
       "numpy_version:  1.23.2"
      ]
     },
     "metadata": {},
     "output_type": "display_data"
    }
   ],
   "source": [
    "library(reticulate)\n",
    "conda_list()\n",
    "py_config()"
   ]
  },
  {
   "cell_type": "code",
   "execution_count": 9,
   "id": "4e03a2b4",
   "metadata": {},
   "outputs": [
    {
     "name": "stderr",
     "output_type": "stream",
     "text": [
      "+ '/Users/thomasgorman/Library/r-miniconda-arm64/bin/conda' 'install' '--yes' '--prefix' '/Users/thomasgorman/Library/r-miniconda-arm64/envs/r-reticulate' '-c' 'conda-forge' 'chapyter'\n",
      "\n"
     ]
    },
    {
     "ename": "ERROR",
     "evalue": "Error: one or more Python packages failed to install [error code 1]\n",
     "output_type": "error",
     "traceback": [
      "Error: one or more Python packages failed to install [error code 1]\nTraceback:\n",
      "1. py_install(\"chapyter\")",
      "2. conda_install(envname, packages = packages, conda = conda, python_version = python_version, \n .     pip = pip, pip_ignore_installed = pip_ignore_installed, ...)",
      "3. stopf(fmt, result)",
      "4. stop(sprintf(fmt, ...), call. = call.)"
     ]
    }
   ],
   "source": [
    "py_install(\"chapyter\")"
   ]
  },
  {
   "cell_type": "code",
   "execution_count": 3,
   "id": "e678258f",
   "metadata": {},
   "outputs": [
    {
     "data": {
      "text/html": [
       "<span style=white-space:pre-wrap>'3.8.16 | packaged by conda-forge | (default, Feb  1 2023, 16:03:41) \\n[Clang 14.0.6 ]'</span>"
      ],
      "text/latex": [
       "'3.8.16 \\textbar{} packaged by conda-forge \\textbar{} (default, Feb  1 2023, 16:03:41) \\textbackslash{}n{[}Clang 14.0.6 {]}'"
      ],
      "text/markdown": [
       "<span style=white-space:pre-wrap>'3.8.16 | packaged by conda-forge | (default, Feb  1 2023, 16:03:41) \\n[Clang 14.0.6 ]'</span>"
      ],
      "text/plain": [
       "[1] \"3.8.16 | packaged by conda-forge | (default, Feb  1 2023, 16:03:41) \\n[Clang 14.0.6 ]\""
      ]
     },
     "metadata": {},
     "output_type": "display_data"
    },
    {
     "data": {
      "text/html": [
       "'/Users/thomasgorman/Library/r-miniconda-arm64/envs/r-reticulate/bin/python'"
      ],
      "text/latex": [
       "'/Users/thomasgorman/Library/r-miniconda-arm64/envs/r-reticulate/bin/python'"
      ],
      "text/markdown": [
       "'/Users/thomasgorman/Library/r-miniconda-arm64/envs/r-reticulate/bin/python'"
      ],
      "text/plain": [
       "[1] \"/Users/thomasgorman/Library/r-miniconda-arm64/envs/r-reticulate/bin/python\""
      ]
     },
     "metadata": {},
     "output_type": "display_data"
    }
   ],
   "source": [
    "sys <- import(\"sys\")\n",
    "sys$version\n",
    "sys$executable"
   ]
  },
  {
   "cell_type": "code",
   "execution_count": 14,
   "id": "757af581",
   "metadata": {},
   "outputs": [
    {
     "data": {
      "text/plain": [
       "Module(chapyter)"
      ]
     },
     "metadata": {},
     "output_type": "display_data"
    }
   ],
   "source": [
    "import(\"chapyter\")"
   ]
  },
  {
   "cell_type": "code",
   "execution_count": 12,
   "id": "4d7b480a",
   "metadata": {},
   "outputs": [
    {
     "ename": "ERROR",
     "evalue": "Error in parse(text = x, srcfile = src): <text>:1:1: unexpected input\n1: %load_ext chapyter\n    ^\n",
     "output_type": "error",
     "traceback": [
      "Error in parse(text = x, srcfile = src): <text>:1:1: unexpected input\n1: %load_ext chapyter\n    ^\nTraceback:\n"
     ]
    }
   ],
   "source": [
    "%load_ext chapyter"
   ]
  },
  {
   "cell_type": "code",
   "execution_count": 15,
   "id": "274dc59c",
   "metadata": {},
   "outputs": [
    {
     "name": "stderr",
     "output_type": "stream",
     "text": [
      "Python 3.8.16 (/Users/thomasgorman/Library/r-miniconda-arm64/envs/r-reticulate/bin/python)\n",
      "Reticulate 1.30 REPL -- A Python interpreter in R.\n",
      "Enter 'exit' or 'quit' to exit the REPL and return to R.\n",
      "\n"
     ]
    },
    {
     "name": "stdout",
     "output_type": "stream",
     "text": [
      "exit\n"
     ]
    }
   ],
   "source": [
    "repl_python()"
   ]
  },
  {
   "cell_type": "code",
   "execution_count": 23,
   "id": "216bc70e",
   "metadata": {},
   "outputs": [
    {
     "data": {
      "text/plain": [
       "Module(chapyter)"
      ]
     },
     "metadata": {},
     "output_type": "display_data"
    }
   ],
   "source": [
    "chapyter <- import(\"chapyter\")\n",
    "chapyter "
   ]
  }
 ],
 "metadata": {
  "kernelspec": {
   "display_name": "R",
   "language": "R",
   "name": "ir"
  },
  "language_info": {
   "codemirror_mode": "r",
   "file_extension": ".r",
   "mimetype": "text/x-r-source",
   "name": "R",
   "pygments_lexer": "r",
   "version": "4.3.1"
  }
 },
 "nbformat": 4,
 "nbformat_minor": 5
}
