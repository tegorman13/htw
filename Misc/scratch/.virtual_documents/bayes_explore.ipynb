


pacman::p_load(tidyverse,tidybayes,brms,broom,broom.mixed,lme4,emmeans,here,knitr,kableExtra,gt,gghalves,patchwork,ggforce,ggdist)
e1 <- readRDS(here("data/e1_07-27-23.rds"))
source(here("Functions/Display_Functions.R"))
source(here("Functions/org_functions.R"))



test <- e1 |> filter(expMode2 == "Test") 
test <- test |>  mutate(id=factor(id,levels=unique(id)),
         vxbn=vxb/max(test$vxb),vxn=vx/max(test$vx),bandIntn=bandInt/max(test$vx),bandIntnb=bandInt/max(test$vxb),svx=scale(vx, scale = TRUE),
         vxC=ifelse(vx>2000,2000,vx))

testAvg <- test %>% group_by(id, condit, vb, bandInt,bandType,tOrder) %>%
  summarise(nHits=sum(dist==0),vxMean=mean(vx),vxMed=median(vx),dist=mean(dist),sdist=mean(sdist),n=n(),Percent_Hit=nHits/n)



select(test,id,condit,bandInt,bandIntn,bandIntnb,vx,vxn,vxb,vxbn,svx) %>% print(n=10)

ggplot(test,aes(x=vxn))+geom_histogram()

test2 <- test %>% filter(expMode=="test-Nf")


stest <- test |> filter(id %in% 1:40)

options(mc.cores = 4, brms.backend = "cmdstanr")





%load_ext jupyter_ai


%load_ext chapyter


#| eval: false
#| warning: false

fit_int_norm <- brm(vxC ~ 1, # 2.1 sec execution time with 4 cores
  data = test,
  family = skew_normal(),
  #warmup = 100,
  prior = c(
    prior(normal(800, 100), class = Intercept),
    prior(normal(400, 10), class = sigma),
    prior(normal(4,1),class=alpha)
  )
)

fit_int_norm

plot(fit_int_norm)


#pp_check(fit_int_norm, ndraws = 11, type = "hist")

pp_check(fit_int_norm, ndraws = 100, type = "dens_overlay")
pp_check(fit_int_norm, type = "stat", stat = "min")
pp_check(fit_int_norm, ndraws = 1000, type = "stat", stat = "mean")
pp_check(fit_int_norm, ndraws = 1000, type = "stat", stat = "median")



fit_b_sn <- brm(vxC ~ 1+bandInt+ (1+bandInt | id), # 2.1 sec execution time with 4 cores
  data = test,
  family = skew_normal(),
  prior = c(
    prior(normal(600, 200), class = Intercept),
    prior(normal(300, 10), class = sigma),
    prior(normal(4,2),class=alpha)
  )
)
fit_b_sn


plot(fit_b_sn)

pp_check(fit_b_sn, ndraws = 100, type = "dens_overlay")
pp_check(fit_b_sn, type = "stat", stat = "min")
pp_check(fit_b_sn, ndraws = 1000, type = "stat", stat = "mean")
pp_check(fit_b_sn, ndraws = 1000, type = "stat", stat = "median")


fit_prior_lnorm <- brm(vxn ~ 1, 
  data = test,
  family = lognormal(),
  prior = c(
    prior(normal(8, 10), class = Intercept),
    prior(normal(0, 10), class = sigma)
  ),
  sample_prior = "only",
  control = list(adapt_delta = .9)
)
fit_prior_lnorm

pp_check(fit_prior_lnorm, type = "stat", stat = "mean", 
         prefix = "ppd")+ coord_cartesian(xlim = c(0.0001, 3000000)) +
  scale_x_continuous("vx",
    trans = "log",
    breaks = c(0.001, 1, 100, 1000, 10000, 100000,10000000),
    labels = c(
      "0.001", "1", "100", "1000", "10000",
      "100000","10000000"
    )
  ) +
  ggtitle("Prior predictive distribution of means")



pp_check(fit_prior_lnorm, type = "stat", stat = "mean", prefix = "ppd") +
  coord_cartesian(xlim = c(0.0001, 30000000)) +
  scale_x_continuous("Finger tapping times [ms]",
    trans = "log",
    breaks = c(0.001, 1, 100, 1000, 10000, 100000),
    labels = c(
      "0.001", "1", "100", "1000", "10000",
      "100000"
    )
  ) 


fit_int_ln <- brm(vxn ~ 1,
  data = test,
  family = lognormal(),
  prior = c(
    prior(normal(2, 2), class = Intercept),
    prior(normal(.5, 1), class = sigma)
  )
)

fit_int_ln

estimate_vx <- exp(as_draws_df(fit_int_ln)$b_Intercept)*max(test$vx)
c(mean = mean(estimate_vx), quantile(estimate_vx, probs = c(.025, .975)))

pp_check(fit_int_ln, ndraws = 100)
pp_check(fit_int_ln, type = "stat", stat = "min")
pp_check(fit_int_ln, ndraws = 1000, type = "stat", stat = "mean")
pp_check(fit_int_ln, ndraws = 1000, type = "stat", stat = "median")



fit_band_ln <- brm(vxn ~ 1 + bandIntn,
  data = test,
  family = lognormal(),
  prior = c(
    prior(normal(2, 2), class = Intercept),
    prior(normal(.5, 1), class = sigma),
    prior(normal(0, 2), class = b, coef = bandIntn)
  ),
  iter = 3000,
  control = list(adapt_delta = .99,
                 max_treedepth = 15)
)

fit_band_ln

estimate_vx <- exp(as_draws_df(fit_band_ln)$b_Intercept)*max(test$vx)
c(mean = mean(estimate_vx), quantile(estimate_vx, probs = c(.025, .975)))

pp_check(fit_band_ln, ndraws = 100)
pp_check(fit_band_ln, type = "stat", stat = "min")
pp_check(fit_band_ln, ndraws = 1000, type = "stat", stat = "mean")
pp_check(fit_band_ln, ndraws = 1000, type = "stat", stat = "median")


fit_band_ln2 <- brm(vxn ~ 1 + bandIntn + (1+bandIntn | id),
  data = test,
  family = lognormal(),
  prior = c(
    prior(normal(2, 2), class = Intercept),
    prior(normal(.5, 1), class = sigma),
    prior(normal(0, 2), class = b, coef = bandIntn)
  ),
  iter = 3000,
  control = list(adapt_delta = .99,
                 max_treedepth = 15)
)

fit_band_ln2

estimate_vx <- exp(as_draws_df(fit_band_ln2)$b_Intercept)*max(test$vx)
c(mean = mean(estimate_vx), quantile(estimate_vx, probs = c(.025, .975)))

pp_check(fit_band_ln2, ndraws = 100)
pp_check(fit_band_ln2, type = "stat", stat = "min")
pp_check(fit_band_ln2, ndraws = 1000, type = "stat", stat = "mean")
pp_check(fit_band_ln2, ndraws = 1000, type = "stat", stat = "median")






fit_band_ln3 <- brm(vxbn ~ 1 + bandIntn + (1+bandIntnb | id),
  data = test,
  family = lognormal(),
  prior = c(
    prior(normal(0, 3), class = Intercept),
    prior(normal(.5, 2), class = sigma),
    prior(normal(0, 3), class = b, coef = bandIntn)
  ),
  iter = 1000,
  control = list(adapt_delta = .98,
                 max_treedepth = 15)
)

fit_band_ln3

estimate_vx <- exp(as_draws_df(fit_band_ln3)$b_Intercept)*max(test$vx)
c(mean = mean(estimate_vx), quantile(estimate_vx, probs = c(.025, .975)))

pp_check(fit_band_ln3, ndraws = 100)
pp_check(fit_band_ln3, type = "stat", stat = "min")
pp_check(fit_band_ln3, ndraws = 1000, type = "stat", stat = "mean")
pp_check(fit_band_ln3, ndraws = 1000, type = "stat", stat = "median")






fit_band_sln <- brm(vxn ~ 1 + bandIntn + (1+bandIntn | id),
  data = test,
  family = shifted_lognormal(),
  prior = c(
    prior(normal(2, 2), class = Intercept),
    prior(normal(.5, 1), class = sigma),
    prior(normal(0, 2), class = b, coef = bandIntn),
    prior(normal(0.0, 0.10), class = ndt)
  ),
  iter = 2000,
  control = list(adapt_delta = .99,
                 max_treedepth = 15)
)

fit_band_sln

estimate_vx <- exp(as_draws_df(fit_band_sln)$b_Intercept)*max(test$vx)
c(mean = mean(estimate_vx), quantile(estimate_vx, probs = c(.025, .975)))

pp_check(fit_band_sln, ndraws = 100)
pp_check(fit_band_sln, type = "stat", stat = "min")
pp_check(fit_band_sln, ndraws = 1000, type = "stat", stat = "mean")
pp_check(fit_band_sln, ndraws = 1000, type = "stat", stat = "median")



fit_band_sln <- brm(vxn ~ 1 + bandIntn + (1+bandIntn | id),
  data = test,
  family = shifted_lognormal(),
  prior = c(
    prior(normal(0, 3), class = Intercept),
    prior(normal(.5, 1), class = sigma),
    prior(normal(1, 2), class = b, coef = bandIntn),
    prior(normal(0.0, 2), class = ndt)
  ),
  file=cache/band_sln_vxn,
  iter = 1000,
  control = list(adapt_delta = .99,
                 max_treedepth = 15)
)

fit_band_sln

estimate_vx <- exp(as_draws_df(fit_band_sln)$b_Intercept)*max(test$vx)
c(mean = mean(estimate_vx), quantile(estimate_vx, probs = c(.025, .975)))

pp_check(fit_band_sln, ndraws = 100)
pp_check(fit_band_sln, type = "stat", stat = "min")
pp_check(fit_band_sln, ndraws = 1000, type = "stat", stat = "mean")
pp_check(fit_band_sln, ndraws = 1000, type = "stat", stat = "median")






fit_band_sln <- brm(vxn ~ 1 + bandIntn + (1+bandIntn | id),
  data = test,
  family = shifted_lognormal(),
  prior = c(
    prior(normal(0, 3), class = Intercept),
    prior(normal(.5, 1), class = sigma),
    prior(normal(1, 2), class = b, coef = bandIntn),
    prior(normal(0.0, 2), class = ndt)
  ),
  file="cache/band_sln_vxn",
  iter = 1000,
  control = list(adapt_delta = .99,
                 max_treedepth = 15)
)


fit_band_sln <- brm(vxbn ~ 1 + bandIntnb + (1+bandIntnb | id),
  data = test,
  family = shifted_lognormal(),
  prior = c(
    prior(normal(0, 3), class = Intercept),
    prior(normal(.5, 1), class = sigma),
    prior(normal(1, 2), class = b, coef = bandIntnb),
    prior(normal(0.0, 2), class = ndt)
  ),
  file="cache/band_sln_vxbn",
  iter = 1000,
  control = list(adapt_delta = .99,
                 max_treedepth = 15)
)




fit_band_ln <- brm(vxn ~ 1 + bandIntn + (1+bandIntn | id),
  data = test,
  family = lognormal(),
  prior = c(
    prior(normal(0, 3), class = Intercept),
    prior(normal(.5, 1), class = sigma),
    prior(normal(1, 2), class = b, coef = bandIntn)
  ),
  file="cache/band_ln_vxn",
  iter = 1000,
  control = list(adapt_delta = .99,
                 max_treedepth = 15)
)


fit_band_ln <- brm(vxbn ~ 1 + bandIntnb + (1+bandIntnb | id),
  data = test,
  family = lognormal(),
  prior = c(
    prior(normal(0, 3), class = Intercept),
    prior(normal(.5, 1), class = sigma),
    prior(normal(1, 2), class = b, coef = bandIntnb)
  ),
  file="cache/band_ln_vxbn",
  iter = 1000,
  control = list(adapt_delta = .99,
                 max_treedepth = 15)
)



fit_band_ln_x <- brm(vx ~ 1 + bandInt + (1+bandInt | id),
  data = test,
  family = lognormal(),
  prior = c(
    prior(normal(0, 3), class = Intercept),
    prior(normal(.5, 1), class = sigma),
    prior(normal(1, 2), class = b, coef = bandInt)
  ),
  file="cache/band_ln_vx",
  iter = 1000
)



fit_b_sn <- brm(vxC ~ 1+bandInt+ (1+bandInt | id), # 2.1 sec execution time with 4 cores
  data = test,
  family = skew_normal(),
  prior = c(
    prior(normal(600, 200), class = Intercept),
    prior(normal(300, 10), class = sigma),
    prior(normal(4,2),class=alpha)
  ),
  file="cache/band_sn_vxC",
)

fit_b_sn <- brm(vxb ~ 1+bandInt+ (1+bandInt | id), # 2.1 sec execution time with 4 cores
  data = test,
  family = skew_normal(),
  prior = c(
    prior(normal(600, 200), class = Intercept),
    prior(normal(300, 10), class = sigma),
    prior(normal(4,2),class=alpha)
  ),
  file="cache/band_sn_vxb",
)


fit_b_sn <- brm(vx ~ 1+bandInt+ (1+bandInt | id), # 2.1 sec execution time with 4 cores
  data = test,
  family = skew_normal(),
  prior = c(
    prior(normal(600, 200), class = Intercept),
    prior(normal(300, 10), class = sigma),
    prior(normal(4,2),class=alpha)
  ),
  file="cache/band_sn_vx",
)



#################






fit_band_sln <- brm(vxn ~ 1 + bandIntn + (1+bandIntn | id),
  data = test2,
  family = shifted_lognormal(),
  prior = c(
    prior(normal(0, 3), class = Intercept),
    prior(normal(.5, 1), class = sigma),
    prior(normal(1, 2), class = b, coef = bandIntn),
    prior(normal(0.0, 2), class = ndt)
  ),
  file="cache/test2_band_sln_vxn",
  iter = 1000,
  control = list(adapt_delta = .99,
                 max_treedepth = 15)
)


fit_band_sln <- brm(vxbn ~ 1 + bandIntnb + (1+bandIntnb | id),
  data = test2,
  family = shifted_lognormal(),
  prior = c(
    prior(normal(0, 3), class = Intercept),
    prior(normal(.5, 1), class = sigma),
    prior(normal(1, 2), class = b, coef = bandIntnb),
    prior(normal(0.0, 2), class = ndt)
  ),
  file="cache/test2_band_sln_vxbn",
  iter = 1000,
  control = list(adapt_delta = .99,
                 max_treedepth = 15)
)




fit_band_ln <- brm(vxn ~ 1 + bandIntn + (1+bandIntn | id),
  data = test2,
  family = lognormal(),
  prior = c(
    prior(normal(0, 3), class = Intercept),
    prior(normal(.5, 1), class = sigma),
    prior(normal(1, 2), class = b, coef = bandIntn)
  ),
  file="cache/test2_band_ln_vxn",
  iter = 1000,
  control = list(adapt_delta = .99,
                 max_treedepth = 15)
)


fit_band_ln <- brm(vxbn ~ 1 + bandIntnb + (1+bandIntnb | id),
  data = test2,
  family = lognormal(),
  prior = c(
    prior(normal(0, 3), class = Intercept),
    prior(normal(.5, 1), class = sigma),
    prior(normal(1, 2), class = b, coef = bandIntnb)
  ),
  file="cache/test2_band_ln_vxbn",
  iter = 1000,
  control = list(adapt_delta = .99,
                 max_treedepth = 15)
)



fit_band_ln_x <- brm(vx ~ 1 + bandInt + (1+bandInt | id),
  data = test2,
  family = lognormal(),
  prior = c(
    prior(normal(0, 3), class = Intercept),
    prior(normal(.5, 1), class = sigma),
    prior(normal(1, 2), class = b, coef = bandInt)
  ),
  file="cache/test2_band_ln_vx",
  iter = 1000,
  control = list(adapt_delta = .99,
                 max_treedepth = 15)
)



fit_b_sn <- brm(vxC ~ 1+bandInt+ (1+bandInt | id), # 2.1 sec execution time with 4 cores
  data = test2,
  family = skew_normal(),
  prior = c(
    prior(normal(600, 200), class = Intercept),
    prior(normal(300, 10), class = sigma),
    prior(normal(4,2),class=alpha)
  ),
  file="cache/test2_band_sn_vxC",
)

fit_b_sn <- brm(vxb ~ 1+bandInt+ (1+bandInt | id), # 2.1 sec execution time with 4 cores
  data = test2,
  family = skew_normal(),
  prior = c(
    prior(normal(600, 200), class = Intercept),
    prior(normal(300, 10), class = sigma),
    prior(normal(4,2),class=alpha)
  ),
  file="cache/test2_band_sn_vxb",
)


fit_b_sn <- brm(vx ~ 1+bandInt+ (1+bandInt | id), # 2.1 sec execution time with 4 cores
  data = test2,
  family = skew_normal(),
  prior = c(
    prior(normal(600, 200), class = Intercept),
    prior(normal(300, 10), class = sigma),
    prior(normal(4,2),class=alpha)
  ),
  file="cache/test2_band_sn_vx",
)



fit_band_sln <- brm(vxn ~ 1 + bandIntn + (1+bandIntn | id),
  data = test,
  family = shifted_lognormal(),
  prior = c(
    prior(normal(0, 3), class = Intercept),
    prior(normal(.5, 1), class = sigma),
    prior(normal(1, 2), class = b, coef = bandIntn),
    prior(normal(0.0, 2), class = ndt)
  ),
  file=cache/band_sln_vxn,
  iter = 1000,
  control = list(adapt_delta = .99,
                 max_treedepth = 15)
)


mu <- 6
sigma <- .4
N <- 50000
# Generate N random samples from a log-normal distribution
sl <- rlnorm(N, mu, sigma)
ggplot(tibble(samples = sl), aes(samples)) +
  geom_histogram(aes(y = after_stat(density)), binwidth = 50) +
  ggtitle("Log-normal distribution\n") +
  coord_cartesian(xlim = c(0, 2000))
# Generate N random samples from a normal distribution,
# and then exponentiate them
sn <- exp(rnorm(N, mu, sigma))
ggplot(tibble(samples = sn), aes(samples)) +
  geom_histogram(aes(y = after_stat(density)), binwidth = 50) +
  ggtitle("Exponentiated samples from\na normal distribution") +
  coord_cartesian(xlim = c(0, 2000))



#https://github.com/vasishth/bayescogsci/blob/master/LOT2020WinterSchoolSlides/03-compbayes-slides.Rmd
N_samples <- 1000
N_obs <- nrow(test)/5
mu_samples <- runif(N_samples, 0, 11)
sigma_samples <- runif(N_samples, 0, 1)
prior_pred_ln <- normal_predictive_distribution(
  mu_samples = mu_samples,
  sigma_samples = sigma_samples,
  N_obs = N_obs
) %>%
  mutate(t_pred = exp(t_pred))

prior_pred_ln %>% group_by(iter) %>% summarise(mean_t=mean(t_pred),min_t=min(t_pred),max_t=max(t_pred)) %>%
  ggplot()+geom_histogram(aes(x=min_t,y = after_stat(density)), binwidth = 60) +
  coord_cartesian(xlim = c(0, 2000))



(prior_pred_stat_ln <- 
prior_pred_ln %>%
  group_by(iter) %>%
  summarize(
    min_rt = min(t_pred),
    max_rt = max(t_pred),
    average_rt = mean(t_pred),
    median_rt = median(t_pred)
  ) %>%
  pivot_longer(cols = ends_with("rt"), names_to = "stat", values_to = "rt"))


prior_pred_stat_ln %>%
  ggplot(aes(rt)) +
  scale_x_continuous("Reaction times in ms",
    trans = "log", breaks = c(0.001, 1, 100, 1000, 10000, 100000)
  ) +
  geom_histogram() +
  facet_wrap(~stat, ncol = 1)

